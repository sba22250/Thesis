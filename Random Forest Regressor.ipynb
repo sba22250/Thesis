{
 "cells": [
  {
   "cell_type": "markdown",
   "id": "cf74cf1b",
   "metadata": {},
   "source": [
    "# 1. Importing Libraries"
   ]
  },
  {
   "cell_type": "code",
   "execution_count": 1,
   "id": "e72415e4",
   "metadata": {},
   "outputs": [],
   "source": [
    "import numpy as np\n",
    "import pandas as pd\n",
    "import os\n",
    "import warnings\n",
    "warnings.filterwarnings(\"ignore\")\n",
    "import seaborn as sns\n",
    "import matplotlib.pyplot as plt\n",
    "plt.style.use('fivethirtyeight')\n",
    "plt.rcParams['lines.linewidth'] = 1.5\n",
    "%matplotlib inline\n",
    "import pandas as pd \n",
    "import pandas_datareader as web \n",
    "import datetime\n",
    "import statistics as stats\n",
    "from statsmodels.stats import weightstats\n",
    "from datetime import datetime\n",
    "\n",
    "import sklearn.preprocessing as preproc\n",
    "from sklearn.linear_model import LinearRegression\n",
    "from sklearn.linear_model import Lasso\n",
    "from sklearn.ensemble import RandomForestRegressor\n",
    "from sklearn.metrics import mean_squared_error\n",
    "from sklearn.preprocessing import StandardScaler\n",
    "from sklearn.pipeline import make_pipeline\n",
    "\n",
    "from skforecast.ForecasterAutoreg import ForecasterAutoreg\n",
    "from skforecast.ForecasterAutoregCustom import ForecasterAutoregCustom\n",
    "from skforecast.ForecasterAutoregMultiOutput import ForecasterAutoregMultiOutput\n",
    "from skforecast.model_selection import grid_search_forecaster\n",
    "from skforecast.model_selection import backtesting_forecaster\n",
    "\n",
    "from joblib import dump, load\n",
    "\n",
    "import altair as alt\n",
    "from bokeh.io import curdoc, output_notebook\n",
    "from bokeh.plotting import figure, show\n",
    "from bokeh.models import HoverTool, ColumnDataSource, CategoricalColorMapper, Slider\n",
    "from bokeh.palettes import Spectral6\n",
    "from bokeh.layouts import Column, row\n",
    "import country_converter as coco\n",
    "from pycountry import countries\n",
    "from pycountry import pycountry\n",
    "import plotly.express as px\n",
    "from statsmodels.tsa.statespace.sarimax import SARIMAX\n",
    "from statsmodels.tsa.arima_model import ARIMA"
   ]
  },
  {
   "cell_type": "markdown",
   "id": "8f15c0fa",
   "metadata": {},
   "source": [
    "# 2. Importing Dataset"
   ]
  },
  {
   "cell_type": "code",
   "execution_count": 2,
   "id": "b13e5b46",
   "metadata": {},
   "outputs": [],
   "source": [
    "df = pd.read_csv('UNE_EDUC_A.csv')\n"
   ]
  },
  {
   "cell_type": "code",
   "execution_count": 3,
   "id": "14ad496b",
   "metadata": {},
   "outputs": [
    {
     "data": {
      "text/html": [
       "<div>\n",
       "<style scoped>\n",
       "    .dataframe tbody tr th:only-of-type {\n",
       "        vertical-align: middle;\n",
       "    }\n",
       "\n",
       "    .dataframe tbody tr th {\n",
       "        vertical-align: top;\n",
       "    }\n",
       "\n",
       "    .dataframe thead th {\n",
       "        text-align: right;\n",
       "    }\n",
       "</style>\n",
       "<table border=\"1\" class=\"dataframe\">\n",
       "  <thead>\n",
       "    <tr style=\"text-align: right;\">\n",
       "      <th></th>\n",
       "      <th>DATAFLOW</th>\n",
       "      <th>LAST UPDATE</th>\n",
       "      <th>freq</th>\n",
       "      <th>sex</th>\n",
       "      <th>isced11</th>\n",
       "      <th>age</th>\n",
       "      <th>unit</th>\n",
       "      <th>geo</th>\n",
       "      <th>TIME_PERIOD</th>\n",
       "      <th>OBS_VALUE</th>\n",
       "      <th>OBS_FLAG</th>\n",
       "    </tr>\n",
       "  </thead>\n",
       "  <tbody>\n",
       "    <tr>\n",
       "      <th>0</th>\n",
       "      <td>ESTAT:UNE_EDUC_A(1.0)</td>\n",
       "      <td>20/06/23 23:00:00</td>\n",
       "      <td>A</td>\n",
       "      <td>F</td>\n",
       "      <td>ED0-2</td>\n",
       "      <td>Y15-74</td>\n",
       "      <td>PC_ACT</td>\n",
       "      <td>AT</td>\n",
       "      <td>2013</td>\n",
       "      <td>9.6</td>\n",
       "      <td>NaN</td>\n",
       "    </tr>\n",
       "    <tr>\n",
       "      <th>1</th>\n",
       "      <td>ESTAT:UNE_EDUC_A(1.0)</td>\n",
       "      <td>20/06/23 23:00:00</td>\n",
       "      <td>A</td>\n",
       "      <td>F</td>\n",
       "      <td>ED0-2</td>\n",
       "      <td>Y15-74</td>\n",
       "      <td>PC_ACT</td>\n",
       "      <td>AT</td>\n",
       "      <td>2014</td>\n",
       "      <td>10.4</td>\n",
       "      <td>NaN</td>\n",
       "    </tr>\n",
       "    <tr>\n",
       "      <th>2</th>\n",
       "      <td>ESTAT:UNE_EDUC_A(1.0)</td>\n",
       "      <td>20/06/23 23:00:00</td>\n",
       "      <td>A</td>\n",
       "      <td>F</td>\n",
       "      <td>ED0-2</td>\n",
       "      <td>Y15-74</td>\n",
       "      <td>PC_ACT</td>\n",
       "      <td>AT</td>\n",
       "      <td>2015</td>\n",
       "      <td>10.0</td>\n",
       "      <td>NaN</td>\n",
       "    </tr>\n",
       "    <tr>\n",
       "      <th>3</th>\n",
       "      <td>ESTAT:UNE_EDUC_A(1.0)</td>\n",
       "      <td>20/06/23 23:00:00</td>\n",
       "      <td>A</td>\n",
       "      <td>F</td>\n",
       "      <td>ED0-2</td>\n",
       "      <td>Y15-74</td>\n",
       "      <td>PC_ACT</td>\n",
       "      <td>AT</td>\n",
       "      <td>2016</td>\n",
       "      <td>11.3</td>\n",
       "      <td>NaN</td>\n",
       "    </tr>\n",
       "    <tr>\n",
       "      <th>4</th>\n",
       "      <td>ESTAT:UNE_EDUC_A(1.0)</td>\n",
       "      <td>20/06/23 23:00:00</td>\n",
       "      <td>A</td>\n",
       "      <td>F</td>\n",
       "      <td>ED0-2</td>\n",
       "      <td>Y15-74</td>\n",
       "      <td>PC_ACT</td>\n",
       "      <td>AT</td>\n",
       "      <td>2017</td>\n",
       "      <td>11.6</td>\n",
       "      <td>NaN</td>\n",
       "    </tr>\n",
       "  </tbody>\n",
       "</table>\n",
       "</div>"
      ],
      "text/plain": [
       "                DATAFLOW        LAST UPDATE freq sex isced11     age    unit  \\\n",
       "0  ESTAT:UNE_EDUC_A(1.0)  20/06/23 23:00:00    A   F   ED0-2  Y15-74  PC_ACT   \n",
       "1  ESTAT:UNE_EDUC_A(1.0)  20/06/23 23:00:00    A   F   ED0-2  Y15-74  PC_ACT   \n",
       "2  ESTAT:UNE_EDUC_A(1.0)  20/06/23 23:00:00    A   F   ED0-2  Y15-74  PC_ACT   \n",
       "3  ESTAT:UNE_EDUC_A(1.0)  20/06/23 23:00:00    A   F   ED0-2  Y15-74  PC_ACT   \n",
       "4  ESTAT:UNE_EDUC_A(1.0)  20/06/23 23:00:00    A   F   ED0-2  Y15-74  PC_ACT   \n",
       "\n",
       "  geo  TIME_PERIOD  OBS_VALUE OBS_FLAG  \n",
       "0  AT         2013        9.6      NaN  \n",
       "1  AT         2014       10.4      NaN  \n",
       "2  AT         2015       10.0      NaN  \n",
       "3  AT         2016       11.3      NaN  \n",
       "4  AT         2017       11.6      NaN  "
      ]
     },
     "execution_count": 3,
     "metadata": {},
     "output_type": "execute_result"
    }
   ],
   "source": [
    "df.head(5)"
   ]
  },
  {
   "cell_type": "code",
   "execution_count": 4,
   "id": "942460d2",
   "metadata": {},
   "outputs": [
    {
     "data": {
      "text/plain": [
       "(13278, 11)"
      ]
     },
     "execution_count": 4,
     "metadata": {},
     "output_type": "execute_result"
    }
   ],
   "source": [
    "df.shape"
   ]
  },
  {
   "cell_type": "markdown",
   "id": "59694c86",
   "metadata": {},
   "source": [
    "# Data Exploration"
   ]
  },
  {
   "cell_type": "code",
   "execution_count": 5,
   "id": "a4d9f6a1",
   "metadata": {},
   "outputs": [
    {
     "name": "stdout",
     "output_type": "stream",
     "text": [
      "<class 'pandas.core.frame.DataFrame'>\n",
      "RangeIndex: 13278 entries, 0 to 13277\n",
      "Data columns (total 11 columns):\n",
      " #   Column       Non-Null Count  Dtype  \n",
      "---  ------       --------------  -----  \n",
      " 0   DATAFLOW     13278 non-null  object \n",
      " 1   LAST UPDATE  13278 non-null  object \n",
      " 2   freq         13278 non-null  object \n",
      " 3   sex          13278 non-null  object \n",
      " 4   isced11      13278 non-null  object \n",
      " 5   age          13278 non-null  object \n",
      " 6   unit         13278 non-null  object \n",
      " 7   geo          13278 non-null  object \n",
      " 8   TIME_PERIOD  13278 non-null  int64  \n",
      " 9   OBS_VALUE    13252 non-null  float64\n",
      " 10  OBS_FLAG     864 non-null    object \n",
      "dtypes: float64(1), int64(1), object(9)\n",
      "memory usage: 1.1+ MB\n",
      "None\n"
     ]
    }
   ],
   "source": [
    "print(df.info())"
   ]
  },
  {
   "cell_type": "code",
   "execution_count": 6,
   "id": "b29e276f",
   "metadata": {
    "scrolled": true
   },
   "outputs": [
    {
     "data": {
      "text/html": [
       "<div>\n",
       "<style scoped>\n",
       "    .dataframe tbody tr th:only-of-type {\n",
       "        vertical-align: middle;\n",
       "    }\n",
       "\n",
       "    .dataframe tbody tr th {\n",
       "        vertical-align: top;\n",
       "    }\n",
       "\n",
       "    .dataframe thead th {\n",
       "        text-align: right;\n",
       "    }\n",
       "</style>\n",
       "<table border=\"1\" class=\"dataframe\">\n",
       "  <thead>\n",
       "    <tr style=\"text-align: right;\">\n",
       "      <th></th>\n",
       "      <th>TIME_PERIOD</th>\n",
       "      <th>OBS_VALUE</th>\n",
       "    </tr>\n",
       "  </thead>\n",
       "  <tbody>\n",
       "    <tr>\n",
       "      <th>count</th>\n",
       "      <td>13278.000000</td>\n",
       "      <td>13252.000000</td>\n",
       "    </tr>\n",
       "    <tr>\n",
       "      <th>mean</th>\n",
       "      <td>2017.759452</td>\n",
       "      <td>21.509878</td>\n",
       "    </tr>\n",
       "    <tr>\n",
       "      <th>std</th>\n",
       "      <td>2.950340</td>\n",
       "      <td>17.302445</td>\n",
       "    </tr>\n",
       "    <tr>\n",
       "      <th>min</th>\n",
       "      <td>2013.000000</td>\n",
       "      <td>0.800000</td>\n",
       "    </tr>\n",
       "    <tr>\n",
       "      <th>25%</th>\n",
       "      <td>2015.000000</td>\n",
       "      <td>7.500000</td>\n",
       "    </tr>\n",
       "    <tr>\n",
       "      <th>50%</th>\n",
       "      <td>2018.000000</td>\n",
       "      <td>16.500000</td>\n",
       "    </tr>\n",
       "    <tr>\n",
       "      <th>75%</th>\n",
       "      <td>2021.000000</td>\n",
       "      <td>30.900000</td>\n",
       "    </tr>\n",
       "    <tr>\n",
       "      <th>max</th>\n",
       "      <td>2022.000000</td>\n",
       "      <td>76.100000</td>\n",
       "    </tr>\n",
       "  </tbody>\n",
       "</table>\n",
       "</div>"
      ],
      "text/plain": [
       "        TIME_PERIOD     OBS_VALUE\n",
       "count  13278.000000  13252.000000\n",
       "mean    2017.759452     21.509878\n",
       "std        2.950340     17.302445\n",
       "min     2013.000000      0.800000\n",
       "25%     2015.000000      7.500000\n",
       "50%     2018.000000     16.500000\n",
       "75%     2021.000000     30.900000\n",
       "max     2022.000000     76.100000"
      ]
     },
     "execution_count": 6,
     "metadata": {},
     "output_type": "execute_result"
    }
   ],
   "source": [
    "df.describe()"
   ]
  },
  {
   "cell_type": "markdown",
   "id": "013a56cc",
   "metadata": {},
   "source": [
    "# Pre-Processing Data"
   ]
  },
  {
   "cell_type": "markdown",
   "id": "f125afb2",
   "metadata": {},
   "source": [
    "## Data Cleaning"
   ]
  },
  {
   "cell_type": "code",
   "execution_count": 7,
   "id": "827302e0",
   "metadata": {},
   "outputs": [
    {
     "data": {
      "text/plain": [
       "DATAFLOW       False\n",
       "LAST UPDATE    False\n",
       "freq           False\n",
       "sex            False\n",
       "isced11        False\n",
       "age            False\n",
       "unit           False\n",
       "geo            False\n",
       "TIME_PERIOD    False\n",
       "OBS_VALUE       True\n",
       "OBS_FLAG        True\n",
       "dtype: bool"
      ]
     },
     "execution_count": 7,
     "metadata": {},
     "output_type": "execute_result"
    }
   ],
   "source": [
    "df.isnull().any()"
   ]
  },
  {
   "cell_type": "code",
   "execution_count": 8,
   "id": "3497daf3",
   "metadata": {},
   "outputs": [
    {
     "data": {
      "text/plain": [
       "DATAFLOW           0\n",
       "LAST UPDATE        0\n",
       "freq               0\n",
       "sex                0\n",
       "isced11            0\n",
       "age                0\n",
       "unit               0\n",
       "geo                0\n",
       "TIME_PERIOD        0\n",
       "OBS_VALUE         26\n",
       "OBS_FLAG       12414\n",
       "dtype: int64"
      ]
     },
     "execution_count": 8,
     "metadata": {},
     "output_type": "execute_result"
    }
   ],
   "source": [
    "df.isnull().sum()"
   ]
  },
  {
   "cell_type": "code",
   "execution_count": 9,
   "id": "9f9e5503",
   "metadata": {},
   "outputs": [
    {
     "data": {
      "text/html": [
       "<div>\n",
       "<style scoped>\n",
       "    .dataframe tbody tr th:only-of-type {\n",
       "        vertical-align: middle;\n",
       "    }\n",
       "\n",
       "    .dataframe tbody tr th {\n",
       "        vertical-align: top;\n",
       "    }\n",
       "\n",
       "    .dataframe thead th {\n",
       "        text-align: right;\n",
       "    }\n",
       "</style>\n",
       "<table border=\"1\" class=\"dataframe\">\n",
       "  <thead>\n",
       "    <tr style=\"text-align: right;\">\n",
       "      <th></th>\n",
       "      <th>DATAFLOW</th>\n",
       "      <th>LAST UPDATE</th>\n",
       "      <th>freq</th>\n",
       "      <th>sex</th>\n",
       "      <th>isced11</th>\n",
       "      <th>age</th>\n",
       "      <th>unit</th>\n",
       "      <th>geo</th>\n",
       "      <th>TIME_PERIOD</th>\n",
       "      <th>OBS_VALUE</th>\n",
       "      <th>OBS_FLAG</th>\n",
       "    </tr>\n",
       "  </thead>\n",
       "  <tbody>\n",
       "    <tr>\n",
       "      <th>13273</th>\n",
       "      <td>ESTAT:UNE_EDUC_A(1.0)</td>\n",
       "      <td>20/06/23 23:00:00</td>\n",
       "      <td>A</td>\n",
       "      <td>T</td>\n",
       "      <td>ED5-8</td>\n",
       "      <td>Y25-74</td>\n",
       "      <td>PC_UNE</td>\n",
       "      <td>SE</td>\n",
       "      <td>2022</td>\n",
       "      <td>29.6</td>\n",
       "      <td>NaN</td>\n",
       "    </tr>\n",
       "    <tr>\n",
       "      <th>13274</th>\n",
       "      <td>ESTAT:UNE_EDUC_A(1.0)</td>\n",
       "      <td>20/06/23 23:00:00</td>\n",
       "      <td>A</td>\n",
       "      <td>T</td>\n",
       "      <td>ED5-8</td>\n",
       "      <td>Y25-74</td>\n",
       "      <td>PC_UNE</td>\n",
       "      <td>SI</td>\n",
       "      <td>2021</td>\n",
       "      <td>34.9</td>\n",
       "      <td>NaN</td>\n",
       "    </tr>\n",
       "    <tr>\n",
       "      <th>13275</th>\n",
       "      <td>ESTAT:UNE_EDUC_A(1.0)</td>\n",
       "      <td>20/06/23 23:00:00</td>\n",
       "      <td>A</td>\n",
       "      <td>T</td>\n",
       "      <td>ED5-8</td>\n",
       "      <td>Y25-74</td>\n",
       "      <td>PC_UNE</td>\n",
       "      <td>SI</td>\n",
       "      <td>2022</td>\n",
       "      <td>32.6</td>\n",
       "      <td>NaN</td>\n",
       "    </tr>\n",
       "    <tr>\n",
       "      <th>13276</th>\n",
       "      <td>ESTAT:UNE_EDUC_A(1.0)</td>\n",
       "      <td>20/06/23 23:00:00</td>\n",
       "      <td>A</td>\n",
       "      <td>T</td>\n",
       "      <td>ED5-8</td>\n",
       "      <td>Y25-74</td>\n",
       "      <td>PC_UNE</td>\n",
       "      <td>SK</td>\n",
       "      <td>2021</td>\n",
       "      <td>14.4</td>\n",
       "      <td>NaN</td>\n",
       "    </tr>\n",
       "    <tr>\n",
       "      <th>13277</th>\n",
       "      <td>ESTAT:UNE_EDUC_A(1.0)</td>\n",
       "      <td>20/06/23 23:00:00</td>\n",
       "      <td>A</td>\n",
       "      <td>T</td>\n",
       "      <td>ED5-8</td>\n",
       "      <td>Y25-74</td>\n",
       "      <td>PC_UNE</td>\n",
       "      <td>SK</td>\n",
       "      <td>2022</td>\n",
       "      <td>12.9</td>\n",
       "      <td>NaN</td>\n",
       "    </tr>\n",
       "  </tbody>\n",
       "</table>\n",
       "</div>"
      ],
      "text/plain": [
       "                    DATAFLOW        LAST UPDATE freq sex isced11     age  \\\n",
       "13273  ESTAT:UNE_EDUC_A(1.0)  20/06/23 23:00:00    A   T   ED5-8  Y25-74   \n",
       "13274  ESTAT:UNE_EDUC_A(1.0)  20/06/23 23:00:00    A   T   ED5-8  Y25-74   \n",
       "13275  ESTAT:UNE_EDUC_A(1.0)  20/06/23 23:00:00    A   T   ED5-8  Y25-74   \n",
       "13276  ESTAT:UNE_EDUC_A(1.0)  20/06/23 23:00:00    A   T   ED5-8  Y25-74   \n",
       "13277  ESTAT:UNE_EDUC_A(1.0)  20/06/23 23:00:00    A   T   ED5-8  Y25-74   \n",
       "\n",
       "         unit geo  TIME_PERIOD  OBS_VALUE OBS_FLAG  \n",
       "13273  PC_UNE  SE         2022       29.6      NaN  \n",
       "13274  PC_UNE  SI         2021       34.9      NaN  \n",
       "13275  PC_UNE  SI         2022       32.6      NaN  \n",
       "13276  PC_UNE  SK         2021       14.4      NaN  \n",
       "13277  PC_UNE  SK         2022       12.9      NaN  "
      ]
     },
     "execution_count": 9,
     "metadata": {},
     "output_type": "execute_result"
    }
   ],
   "source": [
    "df.tail(5)"
   ]
  },
  {
   "cell_type": "code",
   "execution_count": 10,
   "id": "2a2ce2f0",
   "metadata": {},
   "outputs": [
    {
     "data": {
      "text/html": [
       "<div>\n",
       "<style scoped>\n",
       "    .dataframe tbody tr th:only-of-type {\n",
       "        vertical-align: middle;\n",
       "    }\n",
       "\n",
       "    .dataframe tbody tr th {\n",
       "        vertical-align: top;\n",
       "    }\n",
       "\n",
       "    .dataframe thead th {\n",
       "        text-align: right;\n",
       "    }\n",
       "</style>\n",
       "<table border=\"1\" class=\"dataframe\">\n",
       "  <thead>\n",
       "    <tr style=\"text-align: right;\">\n",
       "      <th></th>\n",
       "      <th>sex</th>\n",
       "      <th>isced11</th>\n",
       "      <th>age</th>\n",
       "      <th>unit</th>\n",
       "      <th>geo</th>\n",
       "      <th>TIME_PERIOD</th>\n",
       "      <th>OBS_VALUE</th>\n",
       "    </tr>\n",
       "  </thead>\n",
       "  <tbody>\n",
       "    <tr>\n",
       "      <th>0</th>\n",
       "      <td>F</td>\n",
       "      <td>ED0-2</td>\n",
       "      <td>Y15-74</td>\n",
       "      <td>PC_ACT</td>\n",
       "      <td>AT</td>\n",
       "      <td>2013</td>\n",
       "      <td>9.6</td>\n",
       "    </tr>\n",
       "    <tr>\n",
       "      <th>1</th>\n",
       "      <td>F</td>\n",
       "      <td>ED0-2</td>\n",
       "      <td>Y15-74</td>\n",
       "      <td>PC_ACT</td>\n",
       "      <td>AT</td>\n",
       "      <td>2014</td>\n",
       "      <td>10.4</td>\n",
       "    </tr>\n",
       "    <tr>\n",
       "      <th>2</th>\n",
       "      <td>F</td>\n",
       "      <td>ED0-2</td>\n",
       "      <td>Y15-74</td>\n",
       "      <td>PC_ACT</td>\n",
       "      <td>AT</td>\n",
       "      <td>2015</td>\n",
       "      <td>10.0</td>\n",
       "    </tr>\n",
       "    <tr>\n",
       "      <th>3</th>\n",
       "      <td>F</td>\n",
       "      <td>ED0-2</td>\n",
       "      <td>Y15-74</td>\n",
       "      <td>PC_ACT</td>\n",
       "      <td>AT</td>\n",
       "      <td>2016</td>\n",
       "      <td>11.3</td>\n",
       "    </tr>\n",
       "    <tr>\n",
       "      <th>4</th>\n",
       "      <td>F</td>\n",
       "      <td>ED0-2</td>\n",
       "      <td>Y15-74</td>\n",
       "      <td>PC_ACT</td>\n",
       "      <td>AT</td>\n",
       "      <td>2017</td>\n",
       "      <td>11.6</td>\n",
       "    </tr>\n",
       "  </tbody>\n",
       "</table>\n",
       "</div>"
      ],
      "text/plain": [
       "  sex isced11     age    unit geo  TIME_PERIOD  OBS_VALUE\n",
       "0   F   ED0-2  Y15-74  PC_ACT  AT         2013        9.6\n",
       "1   F   ED0-2  Y15-74  PC_ACT  AT         2014       10.4\n",
       "2   F   ED0-2  Y15-74  PC_ACT  AT         2015       10.0\n",
       "3   F   ED0-2  Y15-74  PC_ACT  AT         2016       11.3\n",
       "4   F   ED0-2  Y15-74  PC_ACT  AT         2017       11.6"
      ]
     },
     "execution_count": 10,
     "metadata": {},
     "output_type": "execute_result"
    }
   ],
   "source": [
    "df = df.drop(['OBS_FLAG','freq','LAST UPDATE', 'DATAFLOW'], axis =1)\n",
    "df.head(5)"
   ]
  },
  {
   "cell_type": "code",
   "execution_count": 11,
   "id": "01f22a84",
   "metadata": {},
   "outputs": [
    {
     "name": "stdout",
     "output_type": "stream",
     "text": [
      "<class 'pandas.core.frame.DataFrame'>\n",
      "RangeIndex: 13278 entries, 0 to 13277\n",
      "Data columns (total 7 columns):\n",
      " #   Column       Non-Null Count  Dtype  \n",
      "---  ------       --------------  -----  \n",
      " 0   sex          13278 non-null  object \n",
      " 1   isced11      13278 non-null  object \n",
      " 2   age          13278 non-null  object \n",
      " 3   unit         13278 non-null  object \n",
      " 4   geo          13278 non-null  object \n",
      " 5   TIME_PERIOD  13278 non-null  int64  \n",
      " 6   OBS_VALUE    13252 non-null  float64\n",
      "dtypes: float64(1), int64(1), object(5)\n",
      "memory usage: 726.3+ KB\n",
      "None\n"
     ]
    }
   ],
   "source": [
    "print(df.info())"
   ]
  },
  {
   "cell_type": "code",
   "execution_count": 12,
   "id": "84e4bdb7",
   "metadata": {},
   "outputs": [
    {
     "data": {
      "text/plain": [
       "0"
      ]
     },
     "execution_count": 12,
     "metadata": {},
     "output_type": "execute_result"
    }
   ],
   "source": [
    "df.duplicated().sum()"
   ]
  },
  {
   "cell_type": "code",
   "execution_count": 13,
   "id": "2edfdf3d",
   "metadata": {},
   "outputs": [
    {
     "data": {
      "text/plain": [
       "sex             0\n",
       "isced11         0\n",
       "age             0\n",
       "unit            0\n",
       "geo             0\n",
       "TIME_PERIOD     0\n",
       "OBS_VALUE      26\n",
       "dtype: int64"
      ]
     },
     "execution_count": 13,
     "metadata": {},
     "output_type": "execute_result"
    }
   ],
   "source": [
    "df.isnull().sum()"
   ]
  },
  {
   "cell_type": "code",
   "execution_count": 14,
   "id": "65aaf7e4",
   "metadata": {},
   "outputs": [
    {
     "name": "stdout",
     "output_type": "stream",
     "text": [
      "Int64Index([ 825,  826,  832,  834, 1159, 1160, 1166, 1168, 1365, 1366, 1382,\n",
      "            1434, 1435, 1451, 7541, 7606, 7607, 7874, 7939, 7940, 8207, 8272,\n",
      "            8273, 8540, 8605, 8606],\n",
      "           dtype='int64')\n"
     ]
    }
   ],
   "source": [
    "null_index = df[df['OBS_VALUE'].isnull()].index\n",
    "print(null_index)"
   ]
  },
  {
   "cell_type": "code",
   "execution_count": 15,
   "id": "a0c6660a",
   "metadata": {},
   "outputs": [
    {
     "name": "stdout",
     "output_type": "stream",
     "text": [
      "    TIME_PERIOD    unit sex     age isced11 geo  Missing_Count\n",
      "0          2015  PC_ACT   M  Y15-74   ED5-8  MT              1\n",
      "1          2015  PC_ACT   M  Y20-64   ED5-8  MT              1\n",
      "2          2015  PC_UNE   M  Y15-74   ED5-8  MT              1\n",
      "3          2015  PC_UNE   M  Y20-64   ED5-8  MT              1\n",
      "4          2016  PC_ACT   M  Y15-74   ED5-8  IS              1\n",
      "5          2016  PC_ACT   M  Y15-74   ED5-8  MT              1\n",
      "6          2016  PC_ACT   M  Y20-64   ED5-8  IS              1\n",
      "7          2016  PC_ACT   M  Y20-64   ED5-8  MT              1\n",
      "8          2016  PC_UNE   M  Y15-74   ED5-8  IS              1\n",
      "9          2016  PC_UNE   M  Y15-74   ED5-8  MT              1\n",
      "10         2016  PC_UNE   M  Y20-64   ED5-8  IS              1\n",
      "11         2016  PC_UNE   M  Y20-64   ED5-8  MT              1\n",
      "12         2017  PC_ACT   F  Y20-64   ED0-2  IS              1\n",
      "13         2017  PC_UNE   F  Y20-64   ED0-2  IS              1\n",
      "14         2019  PC_ACT   F  Y20-64   ED0-2  IS              1\n",
      "15         2019  PC_UNE   F  Y20-64   ED0-2  IS              1\n",
      "16         2020  PC_ACT   F  Y20-64   ED0-2  IE              1\n",
      "17         2020  PC_UNE   F  Y20-64   ED0-2  IE              1\n",
      "18         2021  PC_ACT   F  Y20-64   ED0-2  IE              1\n",
      "19         2021  PC_ACT   F  Y25-74   ED0-2  IE              1\n",
      "20         2021  PC_UNE   F  Y20-64   ED0-2  IE              1\n",
      "21         2021  PC_UNE   F  Y25-74   ED0-2  IE              1\n",
      "22         2022  PC_ACT   F  Y25-74   ED0-2  IE              1\n",
      "23         2022  PC_ACT   F  Y25-74   ED0-2  NO              1\n",
      "24         2022  PC_UNE   F  Y25-74   ED0-2  IE              1\n",
      "25         2022  PC_UNE   F  Y25-74   ED0-2  NO              1\n"
     ]
    }
   ],
   "source": [
    "# Filter out rows where 'OBS_VALUE' is missing\n",
    "missing_values_df = df[df['OBS_VALUE'].isnull()]\n",
    "\n",
    "# Group by 'TIME_PERIOD' and other categories to count missing values\n",
    "missing_counts = missing_values_df.groupby(['TIME_PERIOD', 'unit', 'sex', 'age', 'isced11', 'geo']).size().reset_index(name='Missing_Count')\n",
    "\n",
    "# Display the results\n",
    "print(missing_counts)\n"
   ]
  },
  {
   "cell_type": "code",
   "execution_count": 16,
   "id": "24e5b56b",
   "metadata": {},
   "outputs": [
    {
     "name": "stdout",
     "output_type": "stream",
     "text": [
      "2016    8\n",
      "2021    4\n",
      "2022    4\n",
      "2015    4\n",
      "2020    2\n",
      "2017    2\n",
      "2019    2\n",
      "Name: TIME_PERIOD, dtype: int64\n"
     ]
    }
   ],
   "source": [
    "time_period_counts = missing_values_df['TIME_PERIOD'].value_counts()\n",
    "print(time_period_counts)"
   ]
  },
  {
   "cell_type": "markdown",
   "id": "5c82ddd8",
   "metadata": {},
   "source": [
    "## Which geo (country/region) has the most missing values?"
   ]
  },
  {
   "cell_type": "code",
   "execution_count": 17,
   "id": "a6256fd0",
   "metadata": {},
   "outputs": [
    {
     "name": "stdout",
     "output_type": "stream",
     "text": [
      "IE    8\n",
      "IS    8\n",
      "MT    8\n",
      "NO    2\n",
      "Name: geo, dtype: int64\n"
     ]
    }
   ],
   "source": [
    "geo_counts = missing_values_df['geo'].value_counts()\n",
    "print(geo_counts)"
   ]
  },
  {
   "cell_type": "markdown",
   "id": "a903e288",
   "metadata": {},
   "source": [
    "The \"Unemployment statistics\" published by Eurostat (Eurostat, 2023) contain data that reveal sporadic errors in reporting. This is especially clear in the years 2021 and 2022, where there don't seem to be many meaningful data points. The biggest discrepancies are seen in nations like Luxembourg, Malta, and Iceland."
   ]
  },
  {
   "cell_type": "markdown",
   "id": "0467afaa",
   "metadata": {},
   "source": [
    "## Which education level (isced11) has the most missing values?"
   ]
  },
  {
   "cell_type": "code",
   "execution_count": 18,
   "id": "a5e72922",
   "metadata": {},
   "outputs": [
    {
     "name": "stdout",
     "output_type": "stream",
     "text": [
      "ED0-2    14\n",
      "ED5-8    12\n",
      "Name: isced11, dtype: int64\n"
     ]
    }
   ],
   "source": [
    "edu_counts = missing_values_df['isced11'].value_counts()\n",
    "print(edu_counts)"
   ]
  },
  {
   "cell_type": "code",
   "execution_count": 19,
   "id": "b6c10fef",
   "metadata": {},
   "outputs": [],
   "source": [
    "df['OBS_VALUE'].interpolate(method='linear', inplace=True)"
   ]
  },
  {
   "cell_type": "markdown",
   "id": "5a7447f2",
   "metadata": {},
   "source": [
    "Source[Stack Overflow. (2018) 'Missing values in time series in Python', Stack Overflow. Available at: https://stackoverflow.com/questions/49308530/missing-values-in-time-series-in-python (Accessed: 2 August 2023)]"
   ]
  },
  {
   "cell_type": "code",
   "execution_count": 20,
   "id": "5f9953fd",
   "metadata": {},
   "outputs": [
    {
     "data": {
      "text/plain": [
       "sex            0\n",
       "isced11        0\n",
       "age            0\n",
       "unit           0\n",
       "geo            0\n",
       "TIME_PERIOD    0\n",
       "OBS_VALUE      0\n",
       "dtype: int64"
      ]
     },
     "execution_count": 20,
     "metadata": {},
     "output_type": "execute_result"
    }
   ],
   "source": [
    "df.isnull().sum()"
   ]
  },
  {
   "cell_type": "code",
   "execution_count": 21,
   "id": "dda2af44",
   "metadata": {},
   "outputs": [
    {
     "data": {
      "text/plain": [
       "array(['PC_ACT', 'PC_UNE'], dtype=object)"
      ]
     },
     "execution_count": 21,
     "metadata": {},
     "output_type": "execute_result"
    }
   ],
   "source": [
    "df['unit'].unique()"
   ]
  },
  {
   "cell_type": "code",
   "execution_count": 22,
   "id": "4e982d3e",
   "metadata": {
    "scrolled": true
   },
   "outputs": [
    {
     "data": {
      "text/plain": [
       "array(['Y15-74', 'Y20-64', 'Y25-74'], dtype=object)"
      ]
     },
     "execution_count": 22,
     "metadata": {},
     "output_type": "execute_result"
    }
   ],
   "source": [
    "df['age'].unique()"
   ]
  },
  {
   "cell_type": "code",
   "execution_count": 23,
   "id": "40b2748a",
   "metadata": {},
   "outputs": [
    {
     "data": {
      "text/plain": [
       "array([2013, 2014, 2015, 2016, 2017, 2018, 2019, 2020, 2021, 2022],\n",
       "      dtype=int64)"
      ]
     },
     "execution_count": 23,
     "metadata": {},
     "output_type": "execute_result"
    }
   ],
   "source": [
    "df['TIME_PERIOD'].unique()"
   ]
  },
  {
   "cell_type": "code",
   "execution_count": 24,
   "id": "2710c9fe",
   "metadata": {},
   "outputs": [
    {
     "data": {
      "text/plain": [
       "array(['F', 'M', 'T'], dtype=object)"
      ]
     },
     "execution_count": 24,
     "metadata": {},
     "output_type": "execute_result"
    }
   ],
   "source": [
    "df['sex'].unique()"
   ]
  },
  {
   "cell_type": "code",
   "execution_count": 25,
   "id": "fae30f38",
   "metadata": {},
   "outputs": [
    {
     "data": {
      "text/plain": [
       "array(['AT', 'BE', 'BG', 'CH', 'CY', 'CZ', 'DE', 'DK', 'EE', 'EL', 'ES',\n",
       "       'FI', 'FR', 'HR', 'HU', 'IE', 'IS', 'IT', 'LT', 'LU', 'LV', 'ME',\n",
       "       'MK', 'MT', 'NL', 'NO', 'PL', 'PT', 'RO', 'RS', 'SE', 'SI', 'SK',\n",
       "       'TR'], dtype=object)"
      ]
     },
     "execution_count": 25,
     "metadata": {},
     "output_type": "execute_result"
    }
   ],
   "source": [
    "df['geo'].unique()"
   ]
  },
  {
   "cell_type": "code",
   "execution_count": 26,
   "id": "21b1a5af",
   "metadata": {},
   "outputs": [
    {
     "data": {
      "text/plain": [
       "array(['ED0-2', 'ED3_4', 'ED5-8'], dtype=object)"
      ]
     },
     "execution_count": 26,
     "metadata": {},
     "output_type": "execute_result"
    }
   ],
   "source": [
    "df['isced11'].unique()"
   ]
  },
  {
   "cell_type": "code",
   "execution_count": 27,
   "id": "836b0c82",
   "metadata": {},
   "outputs": [],
   "source": [
    "#df = df.rename(columns={'isced11': 'education_level'})"
   ]
  },
  {
   "cell_type": "markdown",
   "id": "01be116a",
   "metadata": {},
   "source": [
    "education_mapping = {\n",
    "    'ED0-2': 1,  # Pre-primary to Lower secondary\n",
    "    'ED3_4': 2,  # Upper secondary to Post-secondary non-tertiary\n",
    "    'ED5-8': 3   # Short-cycle tertiary to Doctoral level\n",
    "}\n",
    "\n",
    "df['education_level'] = df['education_level'].map(education_mapping)"
   ]
  },
  {
   "cell_type": "code",
   "execution_count": 28,
   "id": "86daab13",
   "metadata": {},
   "outputs": [
    {
     "data": {
      "text/html": [
       "<div>\n",
       "<style scoped>\n",
       "    .dataframe tbody tr th:only-of-type {\n",
       "        vertical-align: middle;\n",
       "    }\n",
       "\n",
       "    .dataframe tbody tr th {\n",
       "        vertical-align: top;\n",
       "    }\n",
       "\n",
       "    .dataframe thead th {\n",
       "        text-align: right;\n",
       "    }\n",
       "</style>\n",
       "<table border=\"1\" class=\"dataframe\">\n",
       "  <thead>\n",
       "    <tr style=\"text-align: right;\">\n",
       "      <th></th>\n",
       "      <th>sex</th>\n",
       "      <th>isced11</th>\n",
       "      <th>age</th>\n",
       "      <th>unit</th>\n",
       "      <th>geo</th>\n",
       "      <th>TIME_PERIOD</th>\n",
       "      <th>OBS_VALUE</th>\n",
       "    </tr>\n",
       "  </thead>\n",
       "  <tbody>\n",
       "    <tr>\n",
       "      <th>0</th>\n",
       "      <td>F</td>\n",
       "      <td>ED0-2</td>\n",
       "      <td>Y15-74</td>\n",
       "      <td>PC_ACT</td>\n",
       "      <td>AT</td>\n",
       "      <td>2013</td>\n",
       "      <td>9.6</td>\n",
       "    </tr>\n",
       "    <tr>\n",
       "      <th>1</th>\n",
       "      <td>F</td>\n",
       "      <td>ED0-2</td>\n",
       "      <td>Y15-74</td>\n",
       "      <td>PC_ACT</td>\n",
       "      <td>AT</td>\n",
       "      <td>2014</td>\n",
       "      <td>10.4</td>\n",
       "    </tr>\n",
       "  </tbody>\n",
       "</table>\n",
       "</div>"
      ],
      "text/plain": [
       "  sex isced11     age    unit geo  TIME_PERIOD  OBS_VALUE\n",
       "0   F   ED0-2  Y15-74  PC_ACT  AT         2013        9.6\n",
       "1   F   ED0-2  Y15-74  PC_ACT  AT         2014       10.4"
      ]
     },
     "execution_count": 28,
     "metadata": {},
     "output_type": "execute_result"
    }
   ],
   "source": [
    "df.head(2)"
   ]
  },
  {
   "cell_type": "code",
   "execution_count": 29,
   "id": "256dbdfe",
   "metadata": {},
   "outputs": [
    {
     "data": {
      "text/html": [
       "<div>\n",
       "<style scoped>\n",
       "    .dataframe tbody tr th:only-of-type {\n",
       "        vertical-align: middle;\n",
       "    }\n",
       "\n",
       "    .dataframe tbody tr th {\n",
       "        vertical-align: top;\n",
       "    }\n",
       "\n",
       "    .dataframe thead th {\n",
       "        text-align: right;\n",
       "    }\n",
       "</style>\n",
       "<table border=\"1\" class=\"dataframe\">\n",
       "  <thead>\n",
       "    <tr style=\"text-align: right;\">\n",
       "      <th></th>\n",
       "      <th>TIME_PERIOD</th>\n",
       "      <th>OBS_VALUE</th>\n",
       "    </tr>\n",
       "  </thead>\n",
       "  <tbody>\n",
       "    <tr>\n",
       "      <th>count</th>\n",
       "      <td>13278.000000</td>\n",
       "      <td>13278.000000</td>\n",
       "    </tr>\n",
       "    <tr>\n",
       "      <th>mean</th>\n",
       "      <td>2017.759452</td>\n",
       "      <td>21.488816</td>\n",
       "    </tr>\n",
       "    <tr>\n",
       "      <th>std</th>\n",
       "      <td>2.950340</td>\n",
       "      <td>17.295517</td>\n",
       "    </tr>\n",
       "    <tr>\n",
       "      <th>min</th>\n",
       "      <td>2013.000000</td>\n",
       "      <td>0.800000</td>\n",
       "    </tr>\n",
       "    <tr>\n",
       "      <th>25%</th>\n",
       "      <td>2015.000000</td>\n",
       "      <td>7.500000</td>\n",
       "    </tr>\n",
       "    <tr>\n",
       "      <th>50%</th>\n",
       "      <td>2018.000000</td>\n",
       "      <td>16.500000</td>\n",
       "    </tr>\n",
       "    <tr>\n",
       "      <th>75%</th>\n",
       "      <td>2021.000000</td>\n",
       "      <td>30.800000</td>\n",
       "    </tr>\n",
       "    <tr>\n",
       "      <th>max</th>\n",
       "      <td>2022.000000</td>\n",
       "      <td>76.100000</td>\n",
       "    </tr>\n",
       "  </tbody>\n",
       "</table>\n",
       "</div>"
      ],
      "text/plain": [
       "        TIME_PERIOD     OBS_VALUE\n",
       "count  13278.000000  13278.000000\n",
       "mean    2017.759452     21.488816\n",
       "std        2.950340     17.295517\n",
       "min     2013.000000      0.800000\n",
       "25%     2015.000000      7.500000\n",
       "50%     2018.000000     16.500000\n",
       "75%     2021.000000     30.800000\n",
       "max     2022.000000     76.100000"
      ]
     },
     "execution_count": 29,
     "metadata": {},
     "output_type": "execute_result"
    }
   ],
   "source": [
    "df.describe()"
   ]
  },
  {
   "cell_type": "code",
   "execution_count": 30,
   "id": "2d28f4c0",
   "metadata": {},
   "outputs": [
    {
     "name": "stdout",
     "output_type": "stream",
     "text": [
      "Number of rows with missing values: 0.0\n"
     ]
    }
   ],
   "source": [
    "print(f'Number of rows with missing values: {df.isnull().any(axis=1).mean()}')"
   ]
  },
  {
   "cell_type": "code",
   "execution_count": 31,
   "id": "fdce3382",
   "metadata": {},
   "outputs": [],
   "source": [
    "df.set_index('TIME_PERIOD', inplace=True)"
   ]
  },
  {
   "cell_type": "code",
   "execution_count": 32,
   "id": "1ea76a1c",
   "metadata": {},
   "outputs": [
    {
     "name": "stdout",
     "output_type": "stream",
     "text": [
      "            sex isced11     age    unit geo  OBS_VALUE\n",
      "TIME_PERIOD                                           \n",
      "2013          F   ED0-2  Y15-74  PC_ACT  AT        9.6\n",
      "2014          F   ED0-2  Y15-74  PC_ACT  AT       10.4\n",
      "2015          F   ED0-2  Y15-74  PC_ACT  AT       10.0\n",
      "2016          F   ED0-2  Y15-74  PC_ACT  AT       11.3\n",
      "2017          F   ED0-2  Y15-74  PC_ACT  AT       11.6\n"
     ]
    }
   ],
   "source": [
    "print(df.head())"
   ]
  },
  {
   "cell_type": "code",
   "execution_count": 33,
   "id": "b3e58d20",
   "metadata": {},
   "outputs": [
    {
     "name": "stdout",
     "output_type": "stream",
     "text": [
      "No missing years.\n"
     ]
    }
   ],
   "source": [
    "expected_years = set(range(df.index.min(), df.index.max() + 1))\n",
    "missing_years = expected_years - set(df.index)\n",
    "if missing_years:\n",
    "    print(f\"Missing years: {sorted(missing_years)}\")\n",
    "else:\n",
    "    print(\"No missing years.\")\n"
   ]
  },
  {
   "cell_type": "code",
   "execution_count": 35,
   "id": "66ea2cc4",
   "metadata": {},
   "outputs": [
    {
     "name": "stdout",
     "output_type": "stream",
     "text": [
      "Train dates : 2013 --- 2021  (n=11606)\n",
      "Test dates  : 2022 --- 2022  (n=1672)\n"
     ]
    }
   ],
   "source": [
    "# Split the data\n",
    "split_year = 2022\n",
    "data_train = df[df.index < split_year]\n",
    "data_test = df[df.index >= split_year]\n",
    "\n",
    "print(f\"Train dates : {data_train.index.min()} --- {data_train.index.max()}  (n={len(data_train)})\")\n",
    "print(f\"Test dates  : {data_test.index.min()} --- {data_test.index.max()}  (n={len(data_test)})\")"
   ]
  },
  {
   "cell_type": "code",
   "execution_count": 36,
   "id": "a8be922b",
   "metadata": {},
   "outputs": [
    {
     "data": {
      "image/png": "[encoded data removed]",
      "text/plain": [
       "<Figure size 648x288 with 1 Axes>"
      ]
     },
     "metadata": {
      "needs_background": "light"
     },
     "output_type": "display_data"
    }
   ],
   "source": [
    "fig, ax=plt.subplots(figsize=(9, 4))\n",
    "data_train['OBS_VALUE'].plot(ax=ax, label='train')\n",
    "data_test['OBS_VALUE'].plot(ax=ax, label='test')\n",
    "ax.legend();\n"
   ]
  },
  {
   "cell_type": "code",
   "execution_count": 38,
   "id": "6cf6b469",
   "metadata": {},
   "outputs": [
    {
     "data": {
      "text/plain": [
       "================= \n",
       "ForecasterAutoreg \n",
       "================= \n",
       "Regressor: RandomForestRegressor(random_state=123) \n",
       "Lags: [1 2 3 4 5 6] \n",
       "Transformer for y: None \n",
       "Transformer for exog: None \n",
       "Window size: 6 \n",
       "Weight function included: False \n",
       "Exogenous included: False \n",
       "Type of exogenous variable: None \n",
       "Exogenous variables names: None \n",
       "Training range: [0, 11605] \n",
       "Training index type: RangeIndex \n",
       "Training index frequency: 1 \n",
       "Regressor parameters: {'bootstrap': True, 'ccp_alpha': 0.0, 'criterion': 'squared_error', 'max_depth': None, 'max_features': 1.0, 'max_leaf_nodes': None, 'max_samples': None, 'min_impurity_decrease': 0.0, 'min_samples_leaf': 1, 'min_samples_split': 2, 'min_weight_fraction_leaf': 0.0, 'n_estimators': 100, 'n_jobs': None, 'oob_score': False, 'random_state': 123, 'verbose': 0, 'warm_start': False} \n",
       "Creation date: 2023-09-19 12:14:21 \n",
       "Last fit date: 2023-09-19 12:14:27 \n",
       "Skforecast version: 0.7.0 \n",
       "Python version: 3.9.12 \n",
       "Forecaster id: None "
      ]
     },
     "execution_count": 38,
     "metadata": {},
     "output_type": "execute_result"
    }
   ],
   "source": [
    "forecaster = ForecasterAutoreg(\n",
    "                regressor = RandomForestRegressor(random_state=123),\n",
    "                lags = 6  # Using past 6 data points to forecast\n",
    "                )\n",
    "\n",
    "forecaster.fit(y=data_train['OBS_VALUE'])\n",
    "steps = len(data_test)  # Number of steps to predict is equivalent to the size of the test data\n",
    "predictions = forecaster.predict(steps=steps)\n",
    "forecaster"
   ]
  },
  {
   "cell_type": "code",
   "execution_count": 39,
   "id": "b3208b70",
   "metadata": {},
   "outputs": [
    {
     "data": {
      "text/plain": [
       "6     26.181000\n",
       "7     24.724000\n",
       "8     28.633000\n",
       "9     31.257667\n",
       "10    28.471000\n",
       "Name: pred, dtype: float64"
      ]
     },
     "execution_count": 39,
     "metadata": {},
     "output_type": "execute_result"
    }
   ],
   "source": [
    "# Predictions\n",
    "# ==============================================================================\n",
    "steps = 5\n",
    "predictions = forecaster.predict(steps=steps)\n",
    "predictions.head(5)"
   ]
  },
  {
   "cell_type": "code",
   "execution_count": 44,
   "id": "88643304",
   "metadata": {},
   "outputs": [
    {
     "name": "stdout",
     "output_type": "stream",
     "text": [
      "Number of models compared: 5.\n"
     ]
    },
    {
     "name": "stderr",
     "output_type": "stream",
     "text": [
      "loop lags_grid:   0%|                                               | 0/5 [00:00<?, ?it/s]\n",
      "loop param_grid:   0%|                                              | 0/1 [00:00<?, ?it/s]\u001b[A\n",
      "loop param_grid: 100%|█████████████████████████████████████| 1/1 [01:48<00:00, 108.70s/it]\u001b[A\n",
      "loop lags_grid:  20%|███████▌                              | 1/5 [01:48<07:14, 108.72s/it]\u001b[A\n",
      "loop param_grid:   0%|                                              | 0/1 [00:00<?, ?it/s]\u001b[A\n",
      "loop param_grid: 100%|█████████████████████████████████████| 1/1 [02:03<00:00, 123.95s/it]\u001b[A\n",
      "loop lags_grid:  40%|███████████████▏                      | 2/5 [03:52<05:53, 117.69s/it]\u001b[A\n",
      "loop param_grid:   0%|                                              | 0/1 [00:00<?, ?it/s]\u001b[A\n",
      "loop param_grid: 100%|█████████████████████████████████████| 1/1 [02:05<00:00, 125.56s/it]\u001b[A\n",
      "loop lags_grid:  60%|██████████████████████▊               | 3/5 [05:58<04:02, 121.29s/it]\u001b[A\n",
      "loop param_grid:   0%|                                              | 0/1 [00:00<?, ?it/s]\u001b[A\n",
      "loop param_grid: 100%|█████████████████████████████████████| 1/1 [02:43<00:00, 163.48s/it]\u001b[A\n",
      "loop lags_grid:  80%|██████████████████████████████▍       | 4/5 [08:41<02:17, 137.95s/it]\u001b[A\n",
      "loop param_grid:   0%|                                              | 0/1 [00:00<?, ?it/s]\u001b[A\n",
      "loop param_grid: 100%|█████████████████████████████████████| 1/1 [02:44<00:00, 164.75s/it]\u001b[A\n",
      "loop lags_grid: 100%|██████████████████████████████████████| 5/5 [11:26<00:00, 137.30s/it]\u001b[A\n"
     ]
    },
    {
     "name": "stdout",
     "output_type": "stream",
     "text": [
      "`Forecaster` refitted using the best-found lags and parameters, and the whole data set: \n",
      "  Lags: [1 2 3] \n",
      "  Parameters: {'max_depth': 10, 'max_samples': 0.8, 'n_estimators': 100}\n",
      "  Backtesting metric: 306.3355566006422\n",
      "\n"
     ]
    }
   ],
   "source": [
    "# Hyperparameter Grid search\n",
    "# ==============================================================================\n",
    "steps = 5\n",
    "forecaster = ForecasterAutoreg(\n",
    "                regressor = RandomForestRegressor(random_state=123, bootstrap=True, n_jobs=-1),\n",
    "                lags      = 6 # This value will be replaced in the grid search\n",
    "             )\n",
    "\n",
    "# Lags used as predictors (considering 2 to 6 years)\n",
    "lags_grid = [2, 3, 4, 5, 6]\n",
    "\n",
    "# Regressor's hyperparameters\n",
    "# Reduced the hyperparameters for the sake of computational efficiency\n",
    "param_grid = {'n_estimators': [100],\n",
    "              'max_depth': [10],\n",
    "             'max_samples':[0.8],\n",
    "             }\n",
    "\n",
    "# Using a subset of data for hyperparameter tuning\n",
    "subset_data_train = data_train.sample(frac=0.3, random_state=123)\n",
    "\n",
    "results_grid = grid_search_forecaster(\n",
    "                        forecaster         = forecaster,\n",
    "                        y                  = subset_data_train['OBS_VALUE'],\n",
    "                        param_grid         = param_grid,\n",
    "                        lags_grid          = lags_grid,\n",
    "                        steps              = steps,\n",
    "                        refit              = True,\n",
    "                        metric             = 'mean_squared_error',\n",
    "                        initial_train_size = int(len(subset_data_train)*0.5),\n",
    "                        fixed_train_size   = False,\n",
    "                        return_best        = True,\n",
    "                        verbose            = False\n",
    "               )\n"
   ]
  },
  {
   "cell_type": "code",
   "execution_count": 45,
   "id": "a430442c",
   "metadata": {},
   "outputs": [
    {
     "data": {
      "text/html": [
       "<div>\n",
       "<style scoped>\n",
       "    .dataframe tbody tr th:only-of-type {\n",
       "        vertical-align: middle;\n",
       "    }\n",
       "\n",
       "    .dataframe tbody tr th {\n",
       "        vertical-align: top;\n",
       "    }\n",
       "\n",
       "    .dataframe thead th {\n",
       "        text-align: right;\n",
       "    }\n",
       "</style>\n",
       "<table border=\"1\" class=\"dataframe\">\n",
       "  <thead>\n",
       "    <tr style=\"text-align: right;\">\n",
       "      <th></th>\n",
       "      <th>lags</th>\n",
       "      <th>params</th>\n",
       "      <th>mean_squared_error</th>\n",
       "      <th>max_depth</th>\n",
       "      <th>max_samples</th>\n",
       "      <th>n_estimators</th>\n",
       "    </tr>\n",
       "  </thead>\n",
       "  <tbody>\n",
       "    <tr>\n",
       "      <th>1</th>\n",
       "      <td>[1, 2, 3]</td>\n",
       "      <td>{'max_depth': 10, 'max_samples': 0.8, 'n_estim...</td>\n",
       "      <td>306.335557</td>\n",
       "      <td>10.0</td>\n",
       "      <td>0.8</td>\n",
       "      <td>100.0</td>\n",
       "    </tr>\n",
       "    <tr>\n",
       "      <th>0</th>\n",
       "      <td>[1, 2]</td>\n",
       "      <td>{'max_depth': 10, 'max_samples': 0.8, 'n_estim...</td>\n",
       "      <td>308.763692</td>\n",
       "      <td>10.0</td>\n",
       "      <td>0.8</td>\n",
       "      <td>100.0</td>\n",
       "    </tr>\n",
       "    <tr>\n",
       "      <th>2</th>\n",
       "      <td>[1, 2, 3, 4]</td>\n",
       "      <td>{'max_depth': 10, 'max_samples': 0.8, 'n_estim...</td>\n",
       "      <td>309.177796</td>\n",
       "      <td>10.0</td>\n",
       "      <td>0.8</td>\n",
       "      <td>100.0</td>\n",
       "    </tr>\n",
       "    <tr>\n",
       "      <th>3</th>\n",
       "      <td>[1, 2, 3, 4, 5]</td>\n",
       "      <td>{'max_depth': 10, 'max_samples': 0.8, 'n_estim...</td>\n",
       "      <td>309.665590</td>\n",
       "      <td>10.0</td>\n",
       "      <td>0.8</td>\n",
       "      <td>100.0</td>\n",
       "    </tr>\n",
       "    <tr>\n",
       "      <th>4</th>\n",
       "      <td>[1, 2, 3, 4, 5, 6]</td>\n",
       "      <td>{'max_depth': 10, 'max_samples': 0.8, 'n_estim...</td>\n",
       "      <td>311.211112</td>\n",
       "      <td>10.0</td>\n",
       "      <td>0.8</td>\n",
       "      <td>100.0</td>\n",
       "    </tr>\n",
       "  </tbody>\n",
       "</table>\n",
       "</div>"
      ],
      "text/plain": [
       "                 lags                                             params  \\\n",
       "1           [1, 2, 3]  {'max_depth': 10, 'max_samples': 0.8, 'n_estim...   \n",
       "0              [1, 2]  {'max_depth': 10, 'max_samples': 0.8, 'n_estim...   \n",
       "2        [1, 2, 3, 4]  {'max_depth': 10, 'max_samples': 0.8, 'n_estim...   \n",
       "3     [1, 2, 3, 4, 5]  {'max_depth': 10, 'max_samples': 0.8, 'n_estim...   \n",
       "4  [1, 2, 3, 4, 5, 6]  {'max_depth': 10, 'max_samples': 0.8, 'n_estim...   \n",
       "\n",
       "   mean_squared_error  max_depth  max_samples  n_estimators  \n",
       "1          306.335557       10.0          0.8         100.0  \n",
       "0          308.763692       10.0          0.8         100.0  \n",
       "2          309.177796       10.0          0.8         100.0  \n",
       "3          309.665590       10.0          0.8         100.0  \n",
       "4          311.211112       10.0          0.8         100.0  "
      ]
     },
     "execution_count": 45,
     "metadata": {},
     "output_type": "execute_result"
    }
   ],
   "source": [
    "# Grid Search results\n",
    "# ==============================================================================\n",
    "results_grid"
   ]
  },
  {
   "cell_type": "code",
   "execution_count": 59,
   "id": "e27b3ede",
   "metadata": {},
   "outputs": [
    {
     "name": "stdout",
     "output_type": "stream",
     "text": [
      "Information of backtesting process\n",
      "----------------------------------\n",
      "Number of observations used for initial training: 13233\n",
      "Number of observations used for backtesting: 45\n",
      "    Number of folds: 9\n",
      "    Number of steps per fold: 5\n",
      "\n",
      "Data partition in fold: 0\n",
      "    Training:   2013 -- 2021  (n=13233)\n",
      "    Validation: 2022 -- 2022  (n=5)\n",
      "Data partition in fold: 1\n",
      "    Training:   2013 -- 2022  (n=13238)\n",
      "    Validation: 2021 -- 2021  (n=5)\n",
      "Data partition in fold: 2\n",
      "    Training:   2013 -- 2021  (n=13243)\n",
      "    Validation: 2022 -- 2022  (n=5)\n",
      "Data partition in fold: 3\n",
      "    Training:   2013 -- 2022  (n=13248)\n",
      "    Validation: 2021 -- 2021  (n=5)\n",
      "Data partition in fold: 4\n",
      "    Training:   2013 -- 2021  (n=13253)\n",
      "    Validation: 2022 -- 2022  (n=5)\n",
      "Data partition in fold: 5\n",
      "    Training:   2013 -- 2022  (n=13258)\n",
      "    Validation: 2021 -- 2015  (n=5)\n",
      "Data partition in fold: 6\n",
      "    Training:   2013 -- 2015  (n=13263)\n",
      "    Validation: 2016 -- 2020  (n=5)\n",
      "Data partition in fold: 7\n",
      "    Training:   2013 -- 2020  (n=13268)\n",
      "    Validation: 2021 -- 2021  (n=5)\n",
      "Data partition in fold: 8\n",
      "    Training:   2013 -- 2021  (n=13273)\n",
      "    Validation: 2022 -- 2022  (n=5)\n",
      "\n",
      "Backtest error: 203.28060890798702\n"
     ]
    },
    {
     "data": {
      "image/png": "[encoded data removed]",
      "text/plain": [
       "<Figure size 720x432 with 1 Axes>"
      ]
     },
     "metadata": {
      "needs_background": "light"
     },
     "output_type": "display_data"
    }
   ],
   "source": [
    "# Best model from the grid search\n",
    "forecaster = ForecasterAutoreg(\n",
    "    regressor=RandomForestRegressor(\n",
    "        max_depth=10, \n",
    "        max_samples=0.8, \n",
    "        n_estimators=100, \n",
    "        random_state=123, \n",
    "        bootstrap=True, \n",
    "        n_jobs=-1\n",
    "    ),\n",
    "    lags=[1, 2, 3] # best lags determined from grid search\n",
    ")\n",
    "\n",
    "# Backtesting setup\n",
    "steps = 5\n",
    "n_backtesting = steps * 3 * 3  # Separate the last 9 cycles (assuming each cycle is 5 steps) for the backtest\n",
    "\n",
    "metric, predictions_backtest = backtesting_forecaster(\n",
    "    forecaster=forecaster,\n",
    "    y=df['OBS_VALUE'],\n",
    "    initial_train_size=len(df) - n_backtesting,\n",
    "    fixed_train_size=False,\n",
    "    steps=steps,\n",
    "    metric='mean_squared_error',\n",
    "    refit=True,\n",
    "    verbose=True\n",
    ")\n",
    "\n",
    "print(f\"Backtest error: {metric}\")\n",
    "\n",
    "# Plot the true vs predicted values for visual inspection.\n",
    "import matplotlib.pyplot as plt\n",
    "\n",
    "plt.figure(figsize=(10, 6))\n",
    "plt.plot(df['OBS_VALUE'].values, label='True', color='blue') # Extracting .values from Series\n",
    "\n",
    "# Extracting .values from predictions\n",
    "plt.plot(range(len(df) - n_backtesting, len(df)), predictions_backtest.values, label='Predicted', color='red')\n",
    "plt.legend()\n",
    "plt.title('Backtesting Results')\n",
    "plt.show()\n",
    "\n"
   ]
  },
  {
   "cell_type": "code",
   "execution_count": 61,
   "id": "15df676d",
   "metadata": {},
   "outputs": [],
   "source": [
    "forecaster.fit(y=data_train['OBS_VALUE'])"
   ]
  },
  {
   "cell_type": "code",
   "execution_count": 62,
   "id": "470d70ba",
   "metadata": {},
   "outputs": [
    {
     "name": "stdout",
     "output_type": "stream",
     "text": [
      "  feature  importance\n",
      "0   lag_1    0.937123\n",
      "1   lag_2    0.036148\n",
      "2   lag_3    0.026729\n"
     ]
    }
   ],
   "source": [
    "# Predictors importance\n",
    "# ==============================================================================\n",
    "importances = forecaster.get_feature_importance()\n",
    "print(importances)\n"
   ]
  },
  {
   "cell_type": "markdown",
   "id": "defaf91b",
   "metadata": {},
   "source": [
    "### Final model"
   ]
  },
  {
   "cell_type": "code",
   "execution_count": 64,
   "id": "49382b51",
   "metadata": {},
   "outputs": [],
   "source": [
    "# Create and train forecaster with the best hyperparameters\n",
    "# ==============================================================================\n",
    "regressor = RandomForestRegressor(max_depth=3, n_estimators=500, random_state=123)\n",
    "forecaster = ForecasterAutoreg(\n",
    "                regressor = regressor,\n",
    "                lags      = 1\n",
    "             )\n",
    "\n",
    "forecaster.fit(y=data_train['OBS_VALUE'])"
   ]
  },
  {
   "cell_type": "code",
   "execution_count": 65,
   "id": "f20de551",
   "metadata": {},
   "outputs": [],
   "source": [
    "predictions = forecaster.predict(steps=steps)"
   ]
  },
  {
   "cell_type": "code",
   "execution_count": 67,
   "id": "175c658b",
   "metadata": {},
   "outputs": [
    {
     "data": {
      "image/png": "[encoded data removed]",
      "text/plain": [
       "<Figure size 648x288 with 1 Axes>"
      ]
     },
     "metadata": {
      "needs_background": "light"
     },
     "output_type": "display_data"
    }
   ],
   "source": [
    "fig, ax=plt.subplots(figsize=(9, 4))\n",
    "data_train['OBS_VALUE'].plot(ax=ax, label='train')\n",
    "data_test['OBS_VALUE'].plot(ax=ax, label='test')\n",
    "predictions.plot(ax=ax, label='predictions')\n",
    "ax.legend();\n"
   ]
  },
  {
   "cell_type": "code",
   "execution_count": 69,
   "id": "fa6fb63e",
   "metadata": {},
   "outputs": [],
   "source": [
    "predictions = forecaster.predict(steps=len(data_test))"
   ]
  },
  {
   "cell_type": "code",
   "execution_count": 70,
   "id": "d8b60a57",
   "metadata": {},
   "outputs": [
    {
     "name": "stdout",
     "output_type": "stream",
     "text": [
      "Test error (mse): 308.6257305472873\n"
     ]
    }
   ],
   "source": [
    "error_mse = mean_squared_error(\n",
    "                y_true=data_test['OBS_VALUE'],\n",
    "                y_pred=predictions\n",
    "            )\n",
    "print(f\"Test error (mse): {error_mse}\")\n"
   ]
  },
  {
   "cell_type": "code",
   "execution_count": 72,
   "id": "e9e16bae",
   "metadata": {},
   "outputs": [
    {
     "name": "stdout",
     "output_type": "stream",
     "text": [
      "Test error (rmse): 17.567746883060654\n"
     ]
    }
   ],
   "source": [
    "rmse = np.sqrt(error_mse)\n",
    "print(f\"Test error (rmse): {rmse}\")\n"
   ]
  },
  {
   "cell_type": "code",
   "execution_count": null,
   "id": "e1e1a10d",
   "metadata": {},
   "outputs": [],
   "source": []
  }
 ],
 "metadata": {
  "kernelspec": {
   "display_name": "Python 3 (ipykernel)",
   "language": "python",
   "name": "python3"
  },
  "language_info": {
   "codemirror_mode": {
    "name": "ipython",
    "version": 3
   },
   "file_extension": ".py",
   "mimetype": "text/x-python",
   "name": "python",
   "nbconvert_exporter": "python",
   "pygments_lexer": "ipython3",
   "version": "3.9.12"
  }
 },
 "nbformat": 4,
 "nbformat_minor": 5
}
